{
 "cells": [
  {
   "cell_type": "code",
   "execution_count": 1,
   "metadata": {},
   "outputs": [],
   "source": [
    "import sys\n",
    "import os\n",
    "import time\n",
    "import prettyprinter\n",
    "import numpy as np\n",
    "\n",
    "import geode.models as m\n",
    "from geode.dispatcher import Dispatcher\n",
    "\n",
    "prettyprinter.install_extras(include=['dataclasses'])"
   ]
  },
  {
   "cell_type": "code",
   "execution_count": 2,
   "metadata": {},
   "outputs": [],
   "source": [
    "ORIGINS = np.array([\n",
    "    (37.1165, -92.2353),\n",
    "    (34.1368, -94.5823),\n",
    "    (37.1165, -92.2353)\n",
    "])\n",
    "\n",
    "DESTS = np.array([\n",
    "    (34.1368, -94.5823),\n",
    "    (36.3408, -96.0384),\n",
    "    (32.2834, -92.0286),\n",
    "    (32.2834, -92.0286)\n",
    "])"
   ]
  },
  {
   "cell_type": "code",
   "execution_count": 3,
   "metadata": {},
   "outputs": [
    {
     "name": "stdout",
     "output_type": "stream",
     "text": [
      "                                         meters       seconds        source\n",
      "olat    olon     dlat    dlon                                              \n",
      "28.5822 -90.8511 30.4978 -85.5658  7.238108e+05  24127.026543  gc_manhattan\n",
      "                 33.0991 -82.2390  1.323432e+06  44114.394735  gc_manhattan\n",
      "                 33.2630 -81.2476  1.435373e+06  47845.764587  gc_manhattan\n",
      "                 39.2731 -80.9597  2.099713e+06  69990.444966  gc_manhattan\n",
      "30.8608 -91.0943 30.4978 -85.5658  5.686530e+05  18955.100283  gc_manhattan\n",
      "                 33.0991 -82.2390  1.083199e+06  36106.629324  gc_manhattan\n",
      "                 33.2630 -81.2476  1.193943e+06  39798.101621  gc_manhattan\n",
      "                 39.2731 -80.9597  1.856201e+06  61873.365677  gc_manhattan\n",
      "32.2302 -88.4963 30.4978 -85.5658  4.206410e+05  18083.000000        google\n",
      "                 33.0991 -82.2390  6.818422e+05  22728.074554  gc_manhattan\n",
      "                 33.2630 -81.2476  7.921311e+05  26404.368659  gc_manhattan\n",
      "                 39.2731 -80.9597  1.462159e+06  48738.640472  gc_manhattan\n",
      "Duration: 629ms\n"
     ]
    }
   ],
   "source": [
    "client = Dispatcher()\n",
    "\n",
    "s = time.time()\n",
    "\n",
    "res = client.distance_matrix(\n",
    "    origins=np.random.rand(3, 2) * [20, 20] + [25, -100],\n",
    "    destinations=np.random.rand(4, 2) * [20, 20] + [25, -100],\n",
    "    provider='google')\n",
    "\n",
    "t = time.time() - s\n",
    "prettyprinter.pprint(res)\n",
    "print('Duration: %dms' % (t * 1000))"
   ]
  }
 ],
 "metadata": {
  "kernelspec": {
   "display_name": "Python 3",
   "language": "python",
   "name": "python3"
  },
  "language_info": {
   "codemirror_mode": {
    "name": "ipython",
    "version": 3
   },
   "file_extension": ".py",
   "mimetype": "text/x-python",
   "name": "python",
   "nbconvert_exporter": "python",
   "pygments_lexer": "ipython3",
   "version": "3.7.1"
  }
 },
 "nbformat": 4,
 "nbformat_minor": 2
}
